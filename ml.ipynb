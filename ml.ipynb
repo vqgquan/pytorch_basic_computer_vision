{
 "cells": [
  {
   "cell_type": "markdown",
   "id": "78ba201a",
   "metadata": {},
   "source": [
    "# AlexNet architecture on Pytorch from scratch\n",
    "This is just a showcase of my machine learning studies. This model is unlikely to perform well on more complex dataset. This project is done by following this tutorial on youtube: https://www.youtube.com/watch?v=tHL5STNJKag&t=1587s and I made modification to use custom machine learning model instead of pretrained models.\n",
    "\n",
    "I am using Fasion-MNIST dataset from kaggle since it is a very popular dataset for machine learning."
   ]
  },
  {
   "cell_type": "markdown",
   "id": "f30d9738",
   "metadata": {},
   "source": [
    "### Create dataset class\n",
    "\n",
    "The FashionDataset class simplifies image loading for deep learning models. It uses ImageFolder to automatically assign labels based on folder names and supports transformations for preprocessing."
   ]
  },
  {
   "cell_type": "code",
   "execution_count": 2,
   "id": "ce72501b",
   "metadata": {},
   "outputs": [],
   "source": [
    "import torch\n",
    "import torch.nn as nn\n",
    "import torch.optim as optim\n",
    "from torch.utils.data import Dataset, DataLoader\n",
    "import torchvision.transforms as transforms\n",
    "from torchvision.datasets import ImageFolder\n",
    "import timm\n",
    "import matplotlib.pyplot as plt\n",
    "import pandas as pd\n",
    "import numpy as np\n",
    "\n"
   ]
  },
  {
   "cell_type": "code",
   "execution_count": 3,
   "id": "817d0c2e",
   "metadata": {},
   "outputs": [],
   "source": [
    "class FashionDataset(Dataset):\n",
    "    def __init__(self, data_directory, transform = None):\n",
    "        self.data = ImageFolder(data_directory, transform=transform)\n",
    "\n",
    "    def __len__(self):\n",
    "        return len(self.data)\n",
    "\n",
    "    def __getitem__(self, index):\n",
    "        return self.data[index]\n",
    "    \n",
    "    @property\n",
    "    def classes(self):\n",
    "        return self.data.classes"
   ]
  },
  {
   "cell_type": "markdown",
   "id": "98a703fc",
   "metadata": {},
   "source": [
    "### Testing out dataset class by calling their functions"
   ]
  },
  {
   "cell_type": "code",
   "execution_count": 4,
   "id": "44062e28",
   "metadata": {},
   "outputs": [],
   "source": [
    "dataset = FashionDataset(data_directory=\"./data/train\")"
   ]
  },
  {
   "cell_type": "code",
   "execution_count": 5,
   "id": "3eff7b1b",
   "metadata": {},
   "outputs": [
    {
     "name": "stdout",
     "output_type": "stream",
     "text": [
      "1\n"
     ]
    },
    {
     "data": {
      "image/jpeg": "[encoded data removed]",
      "image/png": "[encoded data removed]",
      "text/plain": [
       "<PIL.Image.Image image mode=RGB size=28x28>"
      ]
     },
     "execution_count": 5,
     "metadata": {},
     "output_type": "execute_result"
    }
   ],
   "source": [
    "image, label = dataset[6500]\n",
    "print(label)\n",
    "image"
   ]
  },
  {
   "cell_type": "code",
   "execution_count": 6,
   "id": "34679ef6",
   "metadata": {},
   "outputs": [],
   "source": [
    "transform = transforms.Compose([\n",
    "    #Can add transforms.Grayscale() here since Fashion-MNIST is a dataset with grayscale images\n",
    "    transforms.ToTensor(),\n",
    "    transforms.Normalize((0.5,), (0.5,))\n",
    "])\n",
    "\n",
    "dataset = FashionDataset(data_directory=\"./data/train\", transform=transform)"
   ]
  },
  {
   "cell_type": "markdown",
   "id": "d0d1ca6c",
   "metadata": {},
   "source": [
    "### Test out the data loader class\n"
   ]
  },
  {
   "cell_type": "code",
   "execution_count": 7,
   "id": "78152525",
   "metadata": {},
   "outputs": [],
   "source": [
    "dataloader = DataLoader(dataset, batch_size=32, shuffle=True)"
   ]
  },
  {
   "cell_type": "markdown",
   "id": "464e8d80",
   "metadata": {},
   "source": [
    "## Building a Scaled-Down AlexNet-Based Model for Fashion MNIST Using PyTorch \n",
    "The original AlexNet was built for high-resolution, RGB images, but here, it is optimized for a smaller data with images having 28x28 resolution.\n",
    "\n",
    "Some modification include:\n",
    "- Fewer convolutional layers (3 instead of 5) to suit the Fashion MNIST dataset.\n",
    "\n",
    "- Smaller kernel sizes and stride adjustments to align with the lower resolution.\n",
    "\n",
    "- Fully connected layers tailored for feature extraction while maintaining depth."
   ]
  },
  {
   "cell_type": "code",
   "execution_count": 8,
   "id": "07128fd2",
   "metadata": {},
   "outputs": [
    {
     "name": "stdout",
     "output_type": "stream",
     "text": [
      "FashionClassifier(\n",
      "  (conv_layers): Sequential(\n",
      "    (0): Conv2d(3, 64, kernel_size=(3, 3), stride=(1, 1), padding=(1, 1))\n",
      "    (1): ReLU()\n",
      "    (2): MaxPool2d(kernel_size=2, stride=2, padding=0, dilation=1, ceil_mode=False)\n",
      "    (3): Conv2d(64, 128, kernel_size=(3, 3), stride=(1, 1), padding=(1, 1))\n",
      "    (4): ReLU()\n",
      "    (5): MaxPool2d(kernel_size=2, stride=2, padding=0, dilation=1, ceil_mode=False)\n",
      "    (6): Conv2d(128, 256, kernel_size=(3, 3), stride=(1, 1), padding=(1, 1))\n",
      "    (7): ReLU()\n",
      "    (8): MaxPool2d(kernel_size=2, stride=2, padding=0, dilation=1, ceil_mode=False)\n",
      "  )\n",
      "  (fc_layers): Sequential(\n",
      "    (0): Linear(in_features=2304, out_features=512, bias=True)\n",
      "    (1): ReLU()\n",
      "    (2): Linear(in_features=512, out_features=128, bias=True)\n",
      "    (3): ReLU()\n",
      "    (4): Linear(in_features=128, out_features=10, bias=True)\n",
      "  )\n",
      ")\n"
     ]
    }
   ],
   "source": [
    "import torch.nn.functional as F\n",
    "class FashionClassifier(nn.Module):\n",
    "    def __init__(self, num_classes = 10):\n",
    "        super(FashionClassifier, self).__init__()\n",
    "\n",
    "        self.conv_layers = nn.Sequential(\n",
    "            nn.Conv2d(3, 64, kernel_size=3, stride=1, padding=1),\n",
    "            nn.ReLU(),\n",
    "            nn.MaxPool2d(kernel_size = 2),\n",
    "\n",
    "            nn.Conv2d(64, 128, kernel_size=3, stride=1, padding=1),\n",
    "            nn.ReLU(),\n",
    "            nn.MaxPool2d(kernel_size = 2),\n",
    "\n",
    "            nn.Conv2d(128, 256, kernel_size=3, stride=1, padding=1),\n",
    "            nn.ReLU(),\n",
    "            nn.MaxPool2d(kernel_size = 2),\n",
    "        )\n",
    "\n",
    "        self.fc_layers = nn.Sequential(\n",
    "            nn.Linear(256 * 3 * 3, 512),\n",
    "            nn.ReLU(),\n",
    "\n",
    "            nn.Linear(512, 128),\n",
    "            nn.ReLU(),\n",
    "            \n",
    "            nn.Linear(128, 10)\n",
    "        )\n",
    "\n",
    "    def forward(self, x):\n",
    "        x = self.conv_layers(x)\n",
    "        x = torch.flatten(x, start_dim=1)\n",
    "        x = self.fc_layers(x)\n",
    "        return x\n",
    "    \n",
    "model = FashionClassifier()\n",
    "print(model)"
   ]
  },
  {
   "cell_type": "markdown",
   "id": "8de9590b",
   "metadata": {},
   "source": [
    "### Write a simple training loop\n",
    "This script implements a training loop for a deep learning model using PyTorch. It optimizes a FashionClassifier model for image classification while tracking training and validation accuracy. A progress bar (tqdm) provides real-time updates, making it easy to monitor the training process.\n",
    "\n",
    "Key Features\n",
    "\n",
    "- Automatic Device Selection: Runs on GPU (cuda) if available, otherwise defaults to CPU\n",
    "- Model Training & Optimization: Uses CrossEntropyLoss and Adam optimizer to update weights.\n",
    "- Batch-wise Progress Tracking: Displays loss and accuracy updates for each epoch using tqdm\n",
    "- Validation Accuracy Computation: Evaluates model on the test set after every epoch and stores results for future analysis."
   ]
  },
  {
   "cell_type": "code",
   "execution_count": 9,
   "id": "2788cf96",
   "metadata": {},
   "outputs": [],
   "source": [
    "criterion = nn.CrossEntropyLoss()\n",
    "optimizer = optim.Adam(model.parameters(), lr=0.001)"
   ]
  },
  {
   "cell_type": "code",
   "execution_count": 10,
   "id": "6ece19a7",
   "metadata": {},
   "outputs": [],
   "source": [
    "transform = transforms.Compose([\n",
    "    transforms.ToTensor(),\n",
    "    transforms.Normalize((0.5,), (0.5,))  # Normalize to (-1, 1) range\n",
    "])\n",
    "\n",
    "train_folder_dir = \"./data/train\"\n",
    "test_folder_dir = \"./data/test\"\n",
    "\n",
    "train_dataset = FashionDataset(train_folder_dir, transform=transform)\n",
    "test_dataset = FashionDataset(test_folder_dir, transform=transform)\n",
    "\n",
    "train_loader = DataLoader(train_dataset, batch_size=128, shuffle=True)\n",
    "test_loader = DataLoader(test_dataset, batch_size=32, shuffle=False)\n"
   ]
  },
  {
   "cell_type": "code",
   "execution_count": 11,
   "id": "a412e47a",
   "metadata": {},
   "outputs": [
    {
     "name": "stdout",
     "output_type": "stream",
     "text": [
      "torch.Size([128, 3, 28, 28]) torch.Size([128])\n",
      "60000\n",
      "<class 'torch.Tensor'> <built-in method size of Tensor object at 0x0000015B021E2B70> 0\n",
      "['0', '1', '2', '3', '4', '5', '6', '7', '8', '9']\n"
     ]
    }
   ],
   "source": [
    "for images, labels in train_loader:\n",
    "    print(images.shape, labels.shape)\n",
    "    break  # Print just one batch\n",
    "\n",
    "print(len(train_dataset))  # Check total samples\n",
    "image, label = train_dataset[0]\n",
    "print(type(image), image.size, label)  # Verify data\n",
    "print(dataset.classes) "
   ]
  },
  {
   "cell_type": "code",
   "execution_count": 12,
   "id": "1e7ebc93",
   "metadata": {},
   "outputs": [
    {
     "name": "stdout",
     "output_type": "stream",
     "text": [
      "Using device: cuda\n"
     ]
    },
    {
     "name": "stderr",
     "output_type": "stream",
     "text": [
      "Epoch 1/10: 100%|██████████| 469/469 [08:37<00:00,  1.10s/it]\n"
     ]
    },
    {
     "name": "stdout",
     "output_type": "stream",
     "text": [
      "Epoch [1/10], Loss: 0.4913, Accuracy: 81.85%\n",
      "Training complete!\n",
      "Test Accuracy: 87.96%\n"
     ]
    },
    {
     "name": "stderr",
     "output_type": "stream",
     "text": [
      "Epoch 2/10: 100%|██████████| 469/469 [00:47<00:00,  9.89it/s]\n"
     ]
    },
    {
     "name": "stdout",
     "output_type": "stream",
     "text": [
      "Epoch [2/10], Loss: 0.2844, Accuracy: 89.57%\n",
      "Training complete!\n",
      "Test Accuracy: 89.60%\n"
     ]
    },
    {
     "name": "stderr",
     "output_type": "stream",
     "text": [
      "Epoch 3/10: 100%|██████████| 469/469 [00:47<00:00,  9.97it/s]\n"
     ]
    },
    {
     "name": "stdout",
     "output_type": "stream",
     "text": [
      "Epoch [3/10], Loss: 0.2370, Accuracy: 91.26%\n",
      "Training complete!\n",
      "Test Accuracy: 90.90%\n"
     ]
    },
    {
     "name": "stderr",
     "output_type": "stream",
     "text": [
      "Epoch 4/10: 100%|██████████| 469/469 [00:44<00:00, 10.55it/s]\n"
     ]
    },
    {
     "name": "stdout",
     "output_type": "stream",
     "text": [
      "Epoch [4/10], Loss: 0.2027, Accuracy: 92.42%\n",
      "Training complete!\n",
      "Test Accuracy: 90.71%\n"
     ]
    },
    {
     "name": "stderr",
     "output_type": "stream",
     "text": [
      "Epoch 5/10: 100%|██████████| 469/469 [00:46<00:00,  9.99it/s]\n"
     ]
    },
    {
     "name": "stdout",
     "output_type": "stream",
     "text": [
      "Epoch [5/10], Loss: 0.1750, Accuracy: 93.42%\n",
      "Training complete!\n",
      "Test Accuracy: 91.07%\n"
     ]
    },
    {
     "name": "stderr",
     "output_type": "stream",
     "text": [
      "Epoch 6/10: 100%|██████████| 469/469 [00:45<00:00, 10.29it/s]\n"
     ]
    },
    {
     "name": "stdout",
     "output_type": "stream",
     "text": [
      "Epoch [6/10], Loss: 0.1557, Accuracy: 94.13%\n",
      "Training complete!\n",
      "Test Accuracy: 91.98%\n"
     ]
    },
    {
     "name": "stderr",
     "output_type": "stream",
     "text": [
      "Epoch 7/10: 100%|██████████| 469/469 [00:47<00:00,  9.94it/s]\n"
     ]
    },
    {
     "name": "stdout",
     "output_type": "stream",
     "text": [
      "Epoch [7/10], Loss: 0.1335, Accuracy: 94.97%\n",
      "Training complete!\n",
      "Test Accuracy: 91.72%\n"
     ]
    },
    {
     "name": "stderr",
     "output_type": "stream",
     "text": [
      "Epoch 8/10: 100%|██████████| 469/469 [00:47<00:00,  9.98it/s]\n"
     ]
    },
    {
     "name": "stdout",
     "output_type": "stream",
     "text": [
      "Epoch [8/10], Loss: 0.1152, Accuracy: 95.75%\n",
      "Training complete!\n",
      "Test Accuracy: 91.24%\n"
     ]
    },
    {
     "name": "stderr",
     "output_type": "stream",
     "text": [
      "Epoch 9/10: 100%|██████████| 469/469 [00:46<00:00, 10.12it/s]\n"
     ]
    },
    {
     "name": "stdout",
     "output_type": "stream",
     "text": [
      "Epoch [9/10], Loss: 0.1003, Accuracy: 96.30%\n",
      "Training complete!\n",
      "Test Accuracy: 92.05%\n"
     ]
    },
    {
     "name": "stderr",
     "output_type": "stream",
     "text": [
      "Epoch 10/10: 100%|██████████| 469/469 [00:47<00:00,  9.96it/s]\n"
     ]
    },
    {
     "name": "stdout",
     "output_type": "stream",
     "text": [
      "Epoch [10/10], Loss: 0.0831, Accuracy: 96.83%\n",
      "Training complete!\n",
      "Test Accuracy: 91.74%\n"
     ]
    }
   ],
   "source": [
    "from tqdm import tqdm\n",
    "\n",
    "# Initialize model, loss function, and optimizer\n",
    "device = torch.device(\"cuda\" if torch.cuda.is_available() else \"cpu\")\n",
    "print(f\"Using device: {device}\")\n",
    "\n",
    "model = FashionClassifier().to(device)\n",
    "criterion = nn.CrossEntropyLoss()\n",
    "optimizer = optim.Adam(model.parameters(), lr=0.001)\n",
    "\n",
    "train_accuracies, val_accuracies = [], []\n",
    "# Training loop\n",
    "num_epochs = 10\n",
    "for epoch in range(num_epochs):\n",
    "    model.train()  # Set model to training mode\n",
    "    running_loss = 0.0\n",
    "    correct = 0\n",
    "    total = 0\n",
    "    \n",
    "    for images, labels in tqdm(train_loader, desc=f\"Epoch {epoch+1}/{num_epochs}\"):\n",
    "        images, labels = images.to(device), labels.to(device)  # Move data to device\n",
    "        \n",
    "        # Forward pass\n",
    "        outputs = model(images)\n",
    "        loss = criterion(outputs, labels)\n",
    "        \n",
    "        # Backward pass\n",
    "        optimizer.zero_grad()\n",
    "        loss.backward()\n",
    "        optimizer.step()\n",
    "        \n",
    "        # Track training loss and accuracy\n",
    "        running_loss += loss.item()\n",
    "        _, predicted = torch.max(outputs, 1)\n",
    "        total += labels.size(0)\n",
    "        correct += (predicted == labels).sum().item()\n",
    "\n",
    "    # Print epoch results\n",
    "    train_accuracy = 100 * correct / total\n",
    "    train_accuracies.append(train_accuracy)\n",
    "    print(f\"Epoch [{epoch+1}/{num_epochs}], Loss: {running_loss/len(train_loader):.4f}, Accuracy: {train_accuracy:.2f}%\")\n",
    "\n",
    "    print(\"Training complete!\")\n",
    "\n",
    "    # Test loop\n",
    "    model.eval()  # Set model to evaluation mode\n",
    "    correct = 0\n",
    "    total = 0\n",
    "\n",
    "    with torch.no_grad():\n",
    "        for images, labels in test_loader:\n",
    "            images, labels = images.to(device), labels.to(device)\n",
    "            outputs = model(images)\n",
    "            _, predicted = torch.max(outputs, 1)\n",
    "            total += labels.size(0)\n",
    "            correct += (predicted == labels).sum().item()\n",
    "\n",
    "    val_accuracy  = 100 * correct / total\n",
    "    val_accuracies.append(val_accuracy )\n",
    "\n",
    "    print(f\"Test Accuracy: {val_accuracy :.2f}%\")"
   ]
  },
  {
   "cell_type": "markdown",
   "id": "f7e9dbb8",
   "metadata": {},
   "source": [
    "### Show the training and validation data on a plot for easy visualization"
   ]
  },
  {
   "cell_type": "code",
   "execution_count": 13,
   "id": "9dec25de",
   "metadata": {},
   "outputs": [
    {
     "data": {
      "image/png": "[encoded data removed]",
      "text/plain": [
       "<Figure size 640x480 with 1 Axes>"
      ]
     },
     "metadata": {},
     "output_type": "display_data"
    }
   ],
   "source": [
    "plt.plot(range(num_epochs), train_accuracies, label='Training Accuracy')\n",
    "plt.plot(range(num_epochs), val_accuracies, label='Validation Accuracy')\n",
    "plt.legend()\n",
    "plt.show()"
   ]
  },
  {
   "cell_type": "code",
   "execution_count": 14,
   "id": "fdb109f1",
   "metadata": {},
   "outputs": [],
   "source": [
    "torch.save(model.state_dict(), \"model.pth\")\n"
   ]
  }
 ],
 "metadata": {
  "kernelspec": {
   "display_name": ".venv",
   "language": "python",
   "name": "python3"
  },
  "language_info": {
   "codemirror_mode": {
    "name": "ipython",
    "version": 3
   },
   "file_extension": ".py",
   "mimetype": "text/x-python",
   "name": "python",
   "nbconvert_exporter": "python",
   "pygments_lexer": "ipython3",
   "version": "3.12.2"
  }
 },
 "nbformat": 4,
 "nbformat_minor": 5
}
